{
  "cells": [
    {
      "cell_type": "code",
      "execution_count": 48,
      "metadata": {},
      "outputs": [],
      "source": [
        "!pip install python-docx\n",
        "from docx import Document\n",
        "import re"
      ]
    },
    {
      "cell_type": "code",
      "execution_count": 47,
      "metadata": {},
      "outputs": [
        {
          "ename": "NameError",
          "evalue": "name 'docx' is not defined",
          "output_type": "error",
          "traceback": [
            "\u001b[1;31m---------------------------------------------------------------------------\u001b[0m",
            "\u001b[1;31mNameError\u001b[0m                                 Traceback (most recent call last)",
            "\u001b[1;32m~\\AppData\\Local\\Temp/ipykernel_14132/4122529253.py\u001b[0m in \u001b[0;36m<module>\u001b[1;34m\u001b[0m\n\u001b[1;32m----> 1\u001b[1;33m \u001b[0mdoc\u001b[0m \u001b[1;33m=\u001b[0m \u001b[0mdocx\u001b[0m\u001b[1;33m.\u001b[0m\u001b[0mDocument\u001b[0m\u001b[1;33m(\u001b[0m\u001b[1;34m\"bo-luat-lao-dong-2019.docx\"\u001b[0m\u001b[1;33m)\u001b[0m  \u001b[1;31m# Replace with your document file path\u001b[0m\u001b[1;33m\u001b[0m\u001b[1;33m\u001b[0m\u001b[0m\n\u001b[0m",
            "\u001b[1;31mNameError\u001b[0m: name 'docx' is not defined"
          ]
        }
      ],
      "source": [
        "\n",
        "\n",
        "doc = docx.Document(\"bo-luat-lao-dong-2019.docx\")  # Replace with your document file path\n"
      ]
    },
    {
      "cell_type": "code",
      "execution_count": 46,
      "metadata": {},
      "outputs": [
        {
          "name": "stdout",
          "output_type": "stream",
          "text": [
            "Chương I\n",
            "NHỮNG QUY ĐỊNH CHUNG\n",
            "Chương I\n",
            "NHỮNG QUY ĐỊNH CHUNG\n",
            "\n",
            "Chương II\n",
            "VIỆC LÀM, TUYỂN DỤNG VÀ QUẢN LÝ LAO ĐỘNG\n",
            "Chương II\n",
            "VIỆC LÀM, TUYỂN DỤNG VÀ QUẢN LÝ LAO ĐỘNG\n",
            "\n",
            "Chương III\n",
            "HỢP ĐỒNG LAO ĐỘNG\n",
            "Chương IV\n",
            "GIÁO DỤC NGHỀ NGHIỆP VÀ PHÁT TRIỂN KỸ NĂNG NGHỀ\n",
            "Chương IV\n",
            "GIÁO DỤC NGHỀ NGHIỆP VÀ PHÁT TRIỂN KỸ NĂNG NGHỀ\n",
            "\n",
            "Chương V\n",
            "ĐỐI THOẠI TẠI NƠI LÀM VIỆC, THƯƠNG LƯỢNG TẬP THỂ,\n",
            "THỎA ƯỚC LAO ĐỘNG TẬP THỂ\n",
            "Chương VI\n",
            "TIỀN LƯƠNG\n",
            "\n",
            "Chương VII\n",
            "THỜI GIỜ LÀM VIỆC, THỜI GIỜ NGHỈ NGƠI\n",
            "Chương VII\n",
            "THỜI GIỜ LÀM VIỆC, THỜI GIỜ NGHỈ NGƠI\n",
            "\n",
            "Chương VIII\n",
            "KỶ LUẬT LAO ĐỘNG, TRÁCH NHIỆM VẬT CHẤT\n",
            "Chương VIII\n",
            "KỶ LUẬT LAO ĐỘNG, TRÁCH NHIỆM VẬT CHẤT\n",
            "\n",
            "Chương IX\n",
            "AN TOÀN, VỆ SINH LAO ĐỘNG\n",
            "Chương IX\n",
            "AN TOÀN, VỆ SINH LAO ĐỘNG\n",
            "\n",
            "Chương X\n",
            "NHỮNG QUY ĐỊNH RIÊNG ĐỐI VỚI LAO ĐỘNG NỮ\n",
            "VÀ BẢO ĐẢM BÌNH ĐẲNG GIỚI\n",
            "Chương X\n",
            "NHỮNG QUY ĐỊNH RIÊNG ĐỐI VỚI LAO ĐỘNG NỮ\n",
            "VÀ BẢO ĐẢM BÌNH ĐẲNG GIỚI\n",
            "\n",
            "Chương XI\n",
            "NHỮNG QUY ĐỊNH RIÊNG ĐỐI VỚI LAO ĐỘNG\n",
            "CHƯA THÀNH NIÊN VÀ MỘT SỐ LAO ĐỘNG KHÁC\n",
            "Chương XI\n",
            "NHỮNG QUY ĐỊNH RIÊNG ĐỐI VỚI LAO ĐỘNG\n",
            "CHƯA THÀNH NIÊN VÀ MỘT SỐ LAO ĐỘNG KHÁC\n",
            "\n",
            "Chương XII\n",
            "BẢO HIỂM XÃ HỘI, BẢO HIỂM Y TẾ, BẢO HIỂM THẤT NGHIỆP\n",
            "Chương XII\n",
            "BẢO HIỂM XÃ HỘI, BẢO HIỂM Y TẾ, BẢO HIỂM THẤT NGHIỆP\n",
            "\n",
            "Chương XIII\n",
            "TỔ CHỨC ĐẠI DIỆN NGƯỜI LAO ĐỘNG TẠI CƠ SỞ\n",
            "Chương XIII\n",
            "TỔ CHỨC ĐẠI DIỆN NGƯỜI LAO ĐỘNG TẠI CƠ SỞ\n",
            "\n",
            "Chương XIV\n",
            "GIẢI QUYẾT TRANH CHẤP LAO ĐỘNG\n",
            "Chương XIV\n",
            "GIẢI QUYẾT TRANH CHẤP LAO ĐỘNG\n",
            "\n",
            "Chương XV\n",
            "QUẢN LÝ NHÀ NƯỚC VỀ LAO ĐỘNG\n",
            "Chương XV\n",
            "QUẢN LÝ NHÀ NƯỚC VỀ LAO ĐỘNG\n",
            "\n",
            "Chương XVI\n",
            "THANH TRA LAO ĐỘNG,\n",
            "Chương XVI\n",
            "THANH TRA LAO ĐỘNG,\n",
            "XỬ LÝ VI PHẠM PHÁP LUẬT VỀ LAO ĐỘNG\n",
            "Chương XVI\n",
            "THANH TRA LAO ĐỘNG,\n",
            "XỬ LÝ VI PHẠM PHÁP LUẬT VỀ LAO ĐỘNG\n",
            "\n",
            "Chương XVII\n",
            "ĐIỀU KHOẢN THI HÀNH\n",
            "Chương XVII\n",
            "ĐIỀU KHOẢN THI HÀNH\n",
            "\n"
          ]
        }
      ],
      "source": [
        "# Initialize variables to track the current section\n",
        "current_chuong = \"\"\n",
        "extract_chuong = False\n",
        "\n",
        "# Iterate through paragraphs in the document\n",
        "for paragraph in doc.paragraphs:\n",
        "    text = paragraph.text.strip()\n",
        "\n",
        "    # Check if the paragraph starts with \"Chương\"\n",
        "    if text.startswith(\"Chương\"):\n",
        "        current_chuong = text\n",
        "        extract_chuong = True\n",
        "    elif extract_chuong:\n",
        "        # Check if the paragraph starts with \"Mục\" or \"Điều\"\n",
        "        if text.startswith(\"Mục\") or text.startswith(\"Điều\"):\n",
        "            extract_chuong = False\n",
        "        else:\n",
        "            # Extract and print both the \"Chương\" title and the sentences within the \"Chương\" section\n",
        "            current_chuong += \"\\n\" + text\n",
        "            print(current_chuong)  # Print the \"Chương\" title and sentences"
      ]
    }
  ],
  "metadata": {
    "colab": {
      "collapsed_sections": [
        "9FTymN0sU1MM",
        "By-O7zw4Z3BR",
        "3UVSpU9sa0lI",
        "K7lmP4NxlK5E"
      ],
      "provenance": []
    },
    "kernelspec": {
      "display_name": "Python 3",
      "language": "python",
      "name": "python3"
    },
    "language_info": {
      "codemirror_mode": {
        "name": "ipython",
        "version": 3
      },
      "file_extension": ".py",
      "mimetype": "text/x-python",
      "name": "python",
      "nbconvert_exporter": "python",
      "pygments_lexer": "ipython3",
      "version": "3.10.0"
    },
    "vscode": {
      "interpreter": {
        "hash": "369f2c481f4da34e4445cda3fffd2e751bd1c4d706f27375911949ba6bb62e1c"
      }
    }
  },
  "nbformat": 4,
  "nbformat_minor": 0
}
