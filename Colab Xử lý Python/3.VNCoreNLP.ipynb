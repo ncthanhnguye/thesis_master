{
  "cells": [
    {
      "cell_type": "code",
      "execution_count": null,
      "metadata": {},
      "outputs": [],
      "source": [
        "#vncoreNLP\n",
        "!pip install deplacy vncorenlp\n",
        "\n"
      ]
    },
    {
      "cell_type": "code",
      "execution_count": 2,
      "metadata": {},
      "outputs": [],
      "source": [
        "from vncorenlp import VnCoreNLP\n",
        "vnp=VnCoreNLP(\"VnCoreNLP/VnCoreNLP-1.1.1.jar\",annotators=\"wseg,pos,parse\")\n",
        "nlp=lambda t:\"\".join([\"\\n\".join([\"\\t\".join([str(v[\"index\"]),v[\"form\"],\"_\",v[\"posTag\"],v[\"posTag\"],\"_\",str(v[\"head\"]),v[\"depLabel\"],\"_\",\"_\"]) for v in s])+\"\\n\\n\" for s in vnp.annotate(t)[\"sentences\"]])"
      ]
    },
    {
      "cell_type": "code",
      "execution_count": 5,
      "metadata": {},
      "outputs": [
        {
          "name": "stdout",
          "output_type": "stream",
          "text": [
            "1\tBảo_đảm\t_\tV\tV\t_\t0\troot\t_\t_\n",
            "2\tquyền\t_\tN\tN\t_\t1\tdob\t_\t_\n",
            "3\tvà\t_\tCc\tCc\t_\t2\tcoord\t_\t_\n",
            "4\tlợi_ích\t_\tN\tN\t_\t3\tconj\t_\t_\n",
            "5\thợp_pháp\t_\tA\tA\t_\t4\tnmod\t_\t_\n",
            "6\t,\t_\tCH\tCH\t_\t5\tpunct\t_\t_\n",
            "7\tchính_đáng\t_\tA\tA\t_\t5\tamod\t_\t_\n",
            "8\tcủa\t_\tE\tE\t_\t2\tnmod\t_\t_\n",
            "9\tngười\t_\tN\tN\t_\t8\tpob\t_\t_\n",
            "10\tlao_động\t_\tN\tN\t_\t9\tnmod\t_\t_\n",
            "11\t,\t_\tCH\tCH\t_\t1\tpunct\t_\t_\n",
            "12\tngười\t_\tN\tN\t_\t15\tsub\t_\t_\n",
            "13\tlàm_việc\t_\tV\tV\t_\t12\tnmod\t_\t_\n",
            "14\tkhông\t_\tR\tR\t_\t15\tadv\t_\t_\n",
            "15\tcó\t_\tV\tV\t_\t1\tvmod\t_\t_\n",
            "16\tquan_hệ\t_\tN\tN\t_\t15\tdob\t_\t_\n",
            "17\tlao_động\t_\tN\tN\t_\t16\tnmod\t_\t_\n",
            "18\t;\t_\tCH\tCH\t_\t1\tpunct\t_\t_\n",
            "19\tkhuyến_khích\t_\tV\tV\t_\t1\tvmod\t_\t_\n",
            "20\tnhững\t_\tL\tL\t_\t21\tdet\t_\t_\n",
            "21\tthoả_thuận\t_\tN\tN\t_\t19\tdob\t_\t_\n",
            "22\tbảo_đảm\t_\tV\tV\t_\t21\tnmod\t_\t_\n",
            "23\tcho\t_\tE\tE\t_\t21\tnmod\t_\t_\n",
            "24\tngười\t_\tN\tN\t_\t23\tpob\t_\t_\n",
            "25\tlao_động\t_\tN\tN\t_\t24\tnmod\t_\t_\n",
            "26\tcó\t_\tV\tV\t_\t21\tnmod\t_\t_\n",
            "27\tđiều_kiện\t_\tN\tN\t_\t26\tdob\t_\t_\n",
            "28\tthuận_lợi\t_\tA\tA\t_\t27\tnmod\t_\t_\n",
            "29\thơn\t_\tA\tA\t_\t28\tamod\t_\t_\n",
            "30\tso\t_\tV\tV\t_\t28\tvmod\t_\t_\n",
            "31\tvới\t_\tE\tE\t_\t30\tvmod\t_\t_\n",
            "32\tquy_định\t_\tV\tV\t_\t31\tvmod\t_\t_\n",
            "33\tcủa\t_\tE\tE\t_\t32\tnmod\t_\t_\n",
            "34\tpháp_luật\t_\tN\tN\t_\t33\tpob\t_\t_\n",
            "35\tvề\t_\tE\tE\t_\t32\tvmod\t_\t_\n",
            "36\tlao_động\t_\tN\tN\t_\t35\tpob\t_\t_\n",
            "37\t.\t_\tCH\tCH\t_\t1\tpunct\t_\t_\n",
            "\n",
            "\n"
          ]
        }
      ],
      "source": [
        "t1 = 'Bảo đảm quyền và lợi ích hợp pháp, chính đáng của người lao động, người làm việc không có quan hệ lao động; khuyến khích những thỏa thuận bảo đảm cho người lao động có điều kiện thuận lợi hơn so với quy định của pháp luật về lao động.'\n",
        "t2 = ''\n",
        "doc=nlp(t1)\n",
        "print(doc)\n",
        "\n",
        "# => Biểu diễn thành đồ thị (KG)\n",
        "\n"
      ]
    },
    {
      "cell_type": "code",
      "execution_count": 14,
      "metadata": {},
      "outputs": [
        {
          "name": "stdout",
          "output_type": "stream",
          "text": [
            "Matching Sentences:\n",
            "Công ty tôi hoạt động trong lĩnh vực Xây dựng.\n",
            "Công ty đối tác hoạt động trong lĩnh vực Thương mại.\n",
            "Chúng tôi làm việc với công ty Xây dựng.\n"
          ]
        }
      ],
      "source": [
        "# Function to extract SVO triplets from a sentence\n",
        "def extract_svo(sentence):\n",
        "    svo_triplets = []\n",
        "    # Your code for extracting SVO triplets from a sentence\n",
        "    return svo_triplets\n",
        "\n",
        "# Reference sentence\n",
        "reference_sentence = \"tôi \"\n",
        "reference_svo_triplets = extract_svo(reference_sentence)\n",
        "\n",
        "# List of sentences to compare\n",
        "sentences_to_compare = [\n",
        "    \"Công ty tôi hoạt động trong lĩnh vực Xây dựng.\",\n",
        "    \"Công ty đối tác hoạt động trong lĩnh vực Thương mại.\",\n",
        "    \"Chúng tôi làm việc với công ty Xây dựng.\",\n",
        "]\n",
        "\n",
        "# Compare each sentence with the reference sentence\n",
        "matching_sentences = []\n",
        "\n",
        "for sentence in sentences_to_compare:\n",
        "    svo_triplets = extract_svo(sentence)\n",
        "    \n",
        "    # Compare SVO triplets of the reference sentence with the current sentence\n",
        "    if reference_svo_triplets == svo_triplets:\n",
        "        matching_sentences.append(sentence)\n",
        "\n",
        "# Print matching sentences\n",
        "print(\"Matching Sentences:\")\n",
        "for sentence in matching_sentences:\n",
        "    print(sentence)\n"
      ]
    }
  ],
  "metadata": {
    "colab": {
      "collapsed_sections": [
        "9FTymN0sU1MM",
        "By-O7zw4Z3BR",
        "3UVSpU9sa0lI",
        "K7lmP4NxlK5E"
      ],
      "provenance": []
    },
    "kernelspec": {
      "display_name": "Python 3",
      "language": "python",
      "name": "python3"
    },
    "language_info": {
      "codemirror_mode": {
        "name": "ipython",
        "version": 3
      },
      "file_extension": ".py",
      "mimetype": "text/x-python",
      "name": "python",
      "nbconvert_exporter": "python",
      "pygments_lexer": "ipython3",
      "version": "3.10.0"
    },
    "vscode": {
      "interpreter": {
        "hash": "369f2c481f4da34e4445cda3fffd2e751bd1c4d706f27375911949ba6bb62e1c"
      }
    }
  },
  "nbformat": 4,
  "nbformat_minor": 0
}
