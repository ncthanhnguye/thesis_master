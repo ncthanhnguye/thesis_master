{
  "cells": [
    {
      "cell_type": "code",
      "execution_count": null,
      "metadata": {},
      "outputs": [],
      "source": [
        "!pip install transformers\n",
        "!pip install torch\n"
      ]
    },
    {
      "cell_type": "code",
      "execution_count": 45,
      "metadata": {},
      "outputs": [
        {
          "name": "stderr",
          "output_type": "stream",
          "text": [
            "Special tokens have been added in the vocabulary, make sure the associated word embeddings are fine-tuned or trained.\n"
          ]
        }
      ],
      "source": [
        "import torch\n",
        "from transformers import AutoModel, AutoTokenizer\n",
        "from numpy import dot\n",
        "import numpy as np\n",
        "from numpy.linalg import norm\n",
        "from sklearn.metrics.pairwise import cosine_similarity\n",
        "\n",
        "phobert = AutoModel.from_pretrained(\"vinai/phobert-large\")\n",
        "tokenizer = AutoTokenizer.from_pretrained(\"vinai/phobert-large\")\n"
      ]
    },
    {
      "cell_type": "code",
      "execution_count": 58,
      "metadata": {},
      "outputs": [
        {
          "name": "stdout",
          "output_type": "stream",
          "text": [
            "0.8885888\n"
          ]
        }
      ],
      "source": [
        "# INPUT TEXT MUST BE ALREADY WORD-SEGMENTED!\n",
        "sentence = 'nội_dung'  # Make sure to use underscores instead of spaces\n",
        "sentence1 = '2-3-2023'\n",
        "\n",
        "input_ids = torch.tensor([tokenizer.encode(sentence)])\n",
        "\n",
        "with torch.no_grad():\n",
        "    features = phobert(input_ids)  # Models outputs are now tuples\n",
        "\n",
        "input_ids1 = torch.tensor([tokenizer.encode(sentence1)])\n",
        "\n",
        "with torch.no_grad():\n",
        "    features1 = phobert(input_ids1)  # Models outputs are now tuples\n",
        "\n",
        "numdata = features.pooler_output.numpy()\n",
        "numdata1 = features1.pooler_output.numpy()\n",
        "\n",
        "cos_sim = dot(numdata[0], numdata1[0]) / (norm(numdata[0]) * norm(numdata1[0]))\n",
        "print(cos_sim)"
      ]
    }
  ],
  "metadata": {
    "colab": {
      "collapsed_sections": [
        "9FTymN0sU1MM",
        "By-O7zw4Z3BR",
        "3UVSpU9sa0lI",
        "K7lmP4NxlK5E"
      ],
      "provenance": []
    },
    "kernelspec": {
      "display_name": "Python 3",
      "language": "python",
      "name": "python3"
    },
    "language_info": {
      "codemirror_mode": {
        "name": "ipython",
        "version": 3
      },
      "file_extension": ".py",
      "mimetype": "text/x-python",
      "name": "python",
      "nbconvert_exporter": "python",
      "pygments_lexer": "ipython3",
      "version": "3.10.0"
    },
    "vscode": {
      "interpreter": {
        "hash": "369f2c481f4da34e4445cda3fffd2e751bd1c4d706f27375911949ba6bb62e1c"
      }
    }
  },
  "nbformat": 4,
  "nbformat_minor": 0
}
