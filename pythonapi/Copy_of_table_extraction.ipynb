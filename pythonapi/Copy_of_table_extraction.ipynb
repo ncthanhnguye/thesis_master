{
  "cells": [
    {
      "cell_type": "code",
      "execution_count": 75,
      "metadata": {
        "id": "AC_ygijjPCA3"
      },
      "outputs": [],
      "source": [
        "import cv2\n",
        "import numpy as np\n",
        "from PIL import Image, ImageEnhance\n",
        "from src.config import *\n",
        "from src.utilities_upgrade import *\n",
        "\n",
        "table_image = cv2.imread(\"Data/ky_1000gd_maumoi/ky_1000gd_maumoi_page_10.jpg\")\n",
        "height, width = table_image.shape[:2]\n",
        "center = (width/2, height/2)\n",
        "rotate_matrix = cv2.getRotationMatrix2D(center=center, angle=-1, scale=1)\n",
        "table_image = cv2.warpAffine(src=table_image, M=rotate_matrix, dsize=(width, height))\n",
        "table_image = table_image[110:5660, 110:5660]\n",
        "table_image = Resize_Image_Keep_Ratio(table_image, height=IMG_HEIGHT)"
      ]
    },
    {
      "cell_type": "code",
      "execution_count": 76,
      "metadata": {},
      "outputs": [],
      "source": [
        "import pytesseract\n",
        "pytesseract.pytesseract.tesseract_cmd = PATH_TESSERACT_EXE"
      ]
    },
    {
      "cell_type": "code",
      "execution_count": 77,
      "metadata": {},
      "outputs": [
        {
          "data": {
            "text/plain": [
              "(720, 992, 3)"
            ]
          },
          "execution_count": 77,
          "metadata": {},
          "output_type": "execute_result"
        }
      ],
      "source": [
        "table_image.shape"
      ]
    },
    {
      "cell_type": "code",
      "execution_count": 78,
      "metadata": {
        "colab": {
          "base_uri": "https://localhost:8080/",
          "height": 771
        },
        "id": "06fAK5wCPYWZ",
        "outputId": "0cdaf04e-a6ca-4b60-e88b-d69e1fdf1775"
      },
      "outputs": [
        {
          "data": {
            "text/plain": [
              "-1"
            ]
          },
          "execution_count": 78,
          "metadata": {},
          "output_type": "execute_result"
        }
      ],
      "source": [
        "def preprocess(img, factor: int):\n",
        "    gray = cv2.cvtColor(img, cv2.COLOR_BGR2GRAY)\n",
        "    img = Image.fromarray(img)\n",
        "    enhancer = ImageEnhance.Sharpness(img).enhance(factor)\n",
        "    if gray.std() < 30:\n",
        "        enhancer = ImageEnhance.Contrast(enhancer).enhance(factor)\n",
        "    return np.array(enhancer)\n",
        "\n",
        "gray = cv2.cvtColor(table_image, cv2.COLOR_BGR2GRAY)\n",
        "thresh, img_bin = cv2.threshold(\n",
        "    gray, 128, 255, cv2.THRESH_BINARY | cv2.THRESH_OTSU)\n",
        "img_bin = 255-img_bin\n",
        "\n",
        "cv2.imshow('img_bin',img_bin)\n",
        "cv2.waitKey(0)"
      ]
    },
    {
      "cell_type": "code",
      "execution_count": 79,
      "metadata": {
        "id": "SQNQFahUP8hi"
      },
      "outputs": [],
      "source": [
        "def group_h_lines(h_lines, thin_thresh):\n",
        "    new_h_lines = []\n",
        "    while len(h_lines) > 0:\n",
        "        thresh = sorted(h_lines, key=lambda x: x[0][1])[0][0]\n",
        "        lines = [line for line in h_lines if thresh[1] -\n",
        "                 thin_thresh <= line[0][1] <= thresh[1] + thin_thresh]\n",
        "        h_lines = [line for line in h_lines if thresh[1] - thin_thresh >\n",
        "                   line[0][1] or line[0][1] > thresh[1] + thin_thresh]\n",
        "        x = []\n",
        "        for line in lines:\n",
        "            x.append(line[0][0])\n",
        "            x.append(line[0][2])\n",
        "        x_min, x_max = min(x) - int(5*thin_thresh), max(x) + int(5*thin_thresh)\n",
        "        new_h_lines.append([x_min, thresh[1], x_max, thresh[1]])\n",
        "    return new_h_lines\n",
        "\n",
        "kernel_len = gray.shape[1]//120\n",
        "hor_kernel = cv2.getStructuringElement(cv2.MORPH_RECT, (kernel_len, 1))\n",
        "image_horizontal = cv2.erode(img_bin, hor_kernel, iterations=5)\n",
        "horizontal_lines = cv2.dilate(image_horizontal, hor_kernel, iterations=5)\n",
        "\n",
        "h_lines = cv2.HoughLinesP(\n",
        "    horizontal_lines, 1, np.pi/180, 30, maxLineGap=250)\n",
        "\n",
        "new_horizontal_lines = group_h_lines(h_lines, kernel_len)"
      ]
    },
    {
      "cell_type": "code",
      "execution_count": 80,
      "metadata": {
        "colab": {
          "base_uri": "https://localhost:8080/",
          "height": 771
        },
        "id": "lWIrnrJjQFjY",
        "outputId": "19162cfc-2faf-4d59-bf86-219a32f087b5"
      },
      "outputs": [
        {
          "data": {
            "text/plain": [
              "-1"
            ]
          },
          "execution_count": 80,
          "metadata": {},
          "output_type": "execute_result"
        }
      ],
      "source": [
        "h_image = np.zeros(table_image.shape)\n",
        "for x1, y1, x2, y2 in new_horizontal_lines:\n",
        "    h_image = cv2.line(h_image, (x1, y1), (x2, y2), (255, 255, 255), 3)\n",
        "\n",
        "cv2.imshow('h_image',h_image)\n",
        "cv2.waitKey(0)"
      ]
    },
    {
      "cell_type": "code",
      "execution_count": 81,
      "metadata": {
        "id": "vWGEKUNbQYHT"
      },
      "outputs": [
        {
          "name": "stdout",
          "output_type": "stream",
          "text": [
            "9\n"
          ]
        }
      ],
      "source": [
        "def group_v_lines(v_lines, thin_thresh):\n",
        "    new_v_lines = []\n",
        "    while len(v_lines) > 0:\n",
        "        thresh = sorted(v_lines, key=lambda x: x[0][0])[0][0]\n",
        "        lines = [line for line in v_lines if thresh[0] -\n",
        "                 thin_thresh <= line[0][0] <= thresh[0] + thin_thresh]\n",
        "        v_lines = [line for line in v_lines if thresh[0] - thin_thresh >\n",
        "                   line[0][0] or line[0][0] > thresh[0] + thin_thresh]\n",
        "        y = []\n",
        "        for line in lines:\n",
        "            y.append(line[0][1])\n",
        "            y.append(line[0][3])\n",
        "        y_min, y_max = min(y) - int(4*thin_thresh), max(y) + int(4*thin_thresh)\n",
        "        new_v_lines.append([thresh[0], y_min, thresh[0], y_max])\n",
        "    return new_v_lines\n",
        "\n",
        "kernel_len = gray.shape[1]//120\n",
        "ver_kernel = cv2.getStructuringElement(cv2.MORPH_RECT, (1, kernel_len))\n",
        "image_vertical = cv2.erode(img_bin, ver_kernel, iterations=5)\n",
        "vertical_lines = cv2.dilate(image_vertical, ver_kernel, iterations=5)\n",
        "\n",
        "v_lines = cv2.HoughLinesP(vertical_lines, 1, np.pi/180, 30, maxLineGap=250)\n",
        "new_vertical_lines = group_v_lines(v_lines, kernel_len)\n",
        "print(len(new_vertical_lines) - 1)"
      ]
    },
    {
      "cell_type": "code",
      "execution_count": 82,
      "metadata": {
        "colab": {
          "base_uri": "https://localhost:8080/",
          "height": 771
        },
        "id": "hLDnNJqzQm-m",
        "outputId": "c0bda725-94c5-4537-cb6e-dc8f04c3b3a8"
      },
      "outputs": [
        {
          "data": {
            "text/plain": [
              "-1"
            ]
          },
          "execution_count": 82,
          "metadata": {},
          "output_type": "execute_result"
        }
      ],
      "source": [
        "v_image = np.zeros(table_image.shape)\n",
        "for x1, y1, x2, y2 in new_vertical_lines:\n",
        "    v_image = cv2.line(v_image, (x1, y1), (x2, y2), (255, 255, 255), 3)\n",
        "\n",
        "cv2.imshow('v_image', v_image)\n",
        "cv2.waitKey(0)"
      ]
    },
    {
      "cell_type": "code",
      "execution_count": 83,
      "metadata": {
        "id": "uDiLsf-6QpRk"
      },
      "outputs": [],
      "source": [
        "def seg_intersect(line1: list, line2: list):\n",
        "    a1, a2 = line1\n",
        "    b1, b2 = line2\n",
        "    da = a2-a1\n",
        "    db = b2-b1\n",
        "    dp = a1-b1\n",
        "\n",
        "    def perp(a):\n",
        "        b = np.empty_like(a)\n",
        "        b[0] = -a[1]\n",
        "        b[1] = a[0]\n",
        "        return b\n",
        "\n",
        "    dap = perp(da)\n",
        "    denom = np.dot(dap, db)\n",
        "    num = np.dot(dap, dp)\n",
        "    return (num / denom.astype(float))*db + b1\n",
        "\n",
        "points = []\n",
        "for hline in new_horizontal_lines:\n",
        "    x1A, y1A, x2A, y2A = hline\n",
        "    for vline in new_vertical_lines:\n",
        "        x1B, y1B, x2B, y2B = vline\n",
        "\n",
        "        line1 = [np.array([x1A, y1A]), np.array([x2A, y2A])]\n",
        "        line2 = [np.array([x1B, y1B]), np.array([x2B, y2B])]\n",
        "\n",
        "        x, y = seg_intersect(line1, line2)\n",
        "        if x1A <= x <= x2A and y1B <= y <= y2B:\n",
        "            points.append([int(x), int(y)])\n"
      ]
    },
    {
      "cell_type": "code",
      "execution_count": 84,
      "metadata": {
        "colab": {
          "base_uri": "https://localhost:8080/",
          "height": 771
        },
        "id": "AoSvCilVRImp",
        "outputId": "3f97b8dd-ff1e-4068-882a-4eddcbc41b2d"
      },
      "outputs": [
        {
          "data": {
            "text/plain": [
              "-1"
            ]
          },
          "execution_count": 84,
          "metadata": {},
          "output_type": "execute_result"
        }
      ],
      "source": [
        "p_image = np.zeros(table_image.shape)\n",
        "for x1, y1, x2, y2 in new_vertical_lines:\n",
        "    p_image = cv2.line(p_image, (x1, y1), (x2, y2), (255, 255, 255), 3)\n",
        "for x1, y1, x2, y2 in new_horizontal_lines:\n",
        "    p_image = cv2.line(p_image, (x1, y1), (x2, y2), (255, 255, 255), 3)\n",
        "for x, y in points:\n",
        "    p_image = cv2.circle(p_image, (x,y), radius=5, color=(0, 0, 255), thickness=-1)\n",
        "\n",
        "cv2.imshow('p_image', p_image)\n",
        "cv2.waitKey(0)"
      ]
    },
    {
      "cell_type": "code",
      "execution_count": 85,
      "metadata": {
        "id": "vS5UchcWS3k-"
      },
      "outputs": [],
      "source": [
        "def get_bottom_right(right_points, bottom_points, points):\n",
        "    for right in right_points:\n",
        "        for bottom in bottom_points:\n",
        "            if [right[0], bottom[1]] in points:\n",
        "                return right[0], bottom[1]\n",
        "    return None, None\n",
        "\n",
        "cells = []\n",
        "for point in points:\n",
        "    left, top = point\n",
        "    right_points = sorted(\n",
        "        [p for p in points if p[0] > left and p[1] == top], key=lambda x: x[0])\n",
        "    bottom_points = sorted(\n",
        "        [p for p in points if p[1] > top and p[0] == left], key=lambda x: x[1])\n",
        "\n",
        "    right, bottom = get_bottom_right(\n",
        "        right_points, bottom_points, points)\n",
        "    if right and bottom:\n",
        "        cropped_image = table_image[top:bottom, left:right]\n",
        "        cv2.imshow('f_image', cropped_image)\n",
        "        cv2.waitKey(0)\n",
        "        cv2.rectangle(table_image, (left, top), (right, bottom), (0, 0, 255), 2)\n",
        "        cells.append([left, top, right, bottom])"
      ]
    },
    {
      "cell_type": "code",
      "execution_count": 74,
      "metadata": {
        "colab": {
          "base_uri": "https://localhost:8080/",
          "height": 771
        },
        "id": "m-3IJjKqTOwL",
        "outputId": "d02df1bb-2296-4f4e-cfd5-2af8df7aa858"
      },
      "outputs": [
        {
          "data": {
            "text/plain": [
              "-1"
            ]
          },
          "execution_count": 74,
          "metadata": {},
          "output_type": "execute_result"
        }
      ],
      "source": [
        "f_image = table_image.copy()\n",
        "\n",
        "for x1, y1, x2, y2 in cells:\n",
        "    f_image = cv2.rectangle(f_image, (x1, y1), (x2, y2), (0, 0, 255), 1)\n",
        "\n",
        "cv2.imshow('f_image', f_image)\n",
        "cv2.waitKey(0)"
      ]
    },
    {
      "cell_type": "code",
      "execution_count": null,
      "metadata": {
        "id": "pFdYvdAkTyHF"
      },
      "outputs": [],
      "source": []
    }
  ],
  "metadata": {
    "colab": {
      "provenance": []
    },
    "kernelspec": {
      "display_name": "Python 3.10.8 64-bit",
      "language": "python",
      "name": "python3"
    },
    "language_info": {
      "codemirror_mode": {
        "name": "ipython",
        "version": 3
      },
      "file_extension": ".py",
      "mimetype": "text/x-python",
      "name": "python",
      "nbconvert_exporter": "python",
      "pygments_lexer": "ipython3",
      "version": "3.10.8 (tags/v3.10.8:aaaf517, Oct 11 2022, 16:50:30) [MSC v.1933 64 bit (AMD64)]"
    },
    "vscode": {
      "interpreter": {
        "hash": "4bab23f09fb65a505bfbe81ca14cc25f1573a18df8f89bc62fc496e048d8d28a"
      }
    }
  },
  "nbformat": 4,
  "nbformat_minor": 0
}
